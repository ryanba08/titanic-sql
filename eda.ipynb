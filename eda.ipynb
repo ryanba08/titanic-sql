{
 "cells": [
  {
   "cell_type": "markdown",
   "metadata": {},
   "source": [
    "# I Thought It would be fun to turn the well-know Titanic data set into sql and analyze it"
   ]
  },
  {
   "cell_type": "code",
   "execution_count": 59,
   "metadata": {},
   "outputs": [],
   "source": [
    "import pandas as pd\n",
    "from sqlalchemy import create_engine"
   ]
  },
  {
   "cell_type": "code",
   "execution_count": 60,
   "metadata": {},
   "outputs": [
    {
     "data": {
      "text/html": [
       "<div>\n",
       "<style scoped>\n",
       "    .dataframe tbody tr th:only-of-type {\n",
       "        vertical-align: middle;\n",
       "    }\n",
       "\n",
       "    .dataframe tbody tr th {\n",
       "        vertical-align: top;\n",
       "    }\n",
       "\n",
       "    .dataframe thead th {\n",
       "        text-align: right;\n",
       "    }\n",
       "</style>\n",
       "<table border=\"1\" class=\"dataframe\">\n",
       "  <thead>\n",
       "    <tr style=\"text-align: right;\">\n",
       "      <th></th>\n",
       "      <th>PassengerId</th>\n",
       "      <th>Survived</th>\n",
       "      <th>Pclass</th>\n",
       "      <th>Name</th>\n",
       "      <th>Sex</th>\n",
       "      <th>Age</th>\n",
       "      <th>SibSp</th>\n",
       "      <th>Parch</th>\n",
       "      <th>Ticket</th>\n",
       "      <th>Fare</th>\n",
       "      <th>Cabin</th>\n",
       "      <th>Embarked</th>\n",
       "    </tr>\n",
       "  </thead>\n",
       "  <tbody>\n",
       "    <tr>\n",
       "      <th>0</th>\n",
       "      <td>1</td>\n",
       "      <td>0</td>\n",
       "      <td>3</td>\n",
       "      <td>Braund, Mr. Owen Harris</td>\n",
       "      <td>male</td>\n",
       "      <td>22.0</td>\n",
       "      <td>1</td>\n",
       "      <td>0</td>\n",
       "      <td>A/5 21171</td>\n",
       "      <td>7.2500</td>\n",
       "      <td>NaN</td>\n",
       "      <td>S</td>\n",
       "    </tr>\n",
       "    <tr>\n",
       "      <th>1</th>\n",
       "      <td>2</td>\n",
       "      <td>1</td>\n",
       "      <td>1</td>\n",
       "      <td>Cumings, Mrs. John Bradley (Florence Briggs Th...</td>\n",
       "      <td>female</td>\n",
       "      <td>38.0</td>\n",
       "      <td>1</td>\n",
       "      <td>0</td>\n",
       "      <td>PC 17599</td>\n",
       "      <td>71.2833</td>\n",
       "      <td>C85</td>\n",
       "      <td>C</td>\n",
       "    </tr>\n",
       "    <tr>\n",
       "      <th>2</th>\n",
       "      <td>3</td>\n",
       "      <td>1</td>\n",
       "      <td>3</td>\n",
       "      <td>Heikkinen, Miss. Laina</td>\n",
       "      <td>female</td>\n",
       "      <td>26.0</td>\n",
       "      <td>0</td>\n",
       "      <td>0</td>\n",
       "      <td>STON/O2. 3101282</td>\n",
       "      <td>7.9250</td>\n",
       "      <td>NaN</td>\n",
       "      <td>S</td>\n",
       "    </tr>\n",
       "    <tr>\n",
       "      <th>3</th>\n",
       "      <td>4</td>\n",
       "      <td>1</td>\n",
       "      <td>1</td>\n",
       "      <td>Futrelle, Mrs. Jacques Heath (Lily May Peel)</td>\n",
       "      <td>female</td>\n",
       "      <td>35.0</td>\n",
       "      <td>1</td>\n",
       "      <td>0</td>\n",
       "      <td>113803</td>\n",
       "      <td>53.1000</td>\n",
       "      <td>C123</td>\n",
       "      <td>S</td>\n",
       "    </tr>\n",
       "    <tr>\n",
       "      <th>4</th>\n",
       "      <td>5</td>\n",
       "      <td>0</td>\n",
       "      <td>3</td>\n",
       "      <td>Allen, Mr. William Henry</td>\n",
       "      <td>male</td>\n",
       "      <td>35.0</td>\n",
       "      <td>0</td>\n",
       "      <td>0</td>\n",
       "      <td>373450</td>\n",
       "      <td>8.0500</td>\n",
       "      <td>NaN</td>\n",
       "      <td>S</td>\n",
       "    </tr>\n",
       "  </tbody>\n",
       "</table>\n",
       "</div>"
      ],
      "text/plain": [
       "   PassengerId  Survived  Pclass  \\\n",
       "0            1         0       3   \n",
       "1            2         1       1   \n",
       "2            3         1       3   \n",
       "3            4         1       1   \n",
       "4            5         0       3   \n",
       "\n",
       "                                                Name     Sex   Age  SibSp  \\\n",
       "0                            Braund, Mr. Owen Harris    male  22.0      1   \n",
       "1  Cumings, Mrs. John Bradley (Florence Briggs Th...  female  38.0      1   \n",
       "2                             Heikkinen, Miss. Laina  female  26.0      0   \n",
       "3       Futrelle, Mrs. Jacques Heath (Lily May Peel)  female  35.0      1   \n",
       "4                           Allen, Mr. William Henry    male  35.0      0   \n",
       "\n",
       "   Parch            Ticket     Fare Cabin Embarked  \n",
       "0      0         A/5 21171   7.2500   NaN        S  \n",
       "1      0          PC 17599  71.2833   C85        C  \n",
       "2      0  STON/O2. 3101282   7.9250   NaN        S  \n",
       "3      0            113803  53.1000  C123        S  \n",
       "4      0            373450   8.0500   NaN        S  "
      ]
     },
     "execution_count": 60,
     "metadata": {},
     "output_type": "execute_result"
    }
   ],
   "source": [
    "titanic = pd.read_csv('train.csv')\n",
    "titanic.head()"
   ]
  },
  {
   "cell_type": "markdown",
   "metadata": {},
   "source": [
    "<b>VARIABLE DESCRIPTION</b> <br><br>\n",
    "PassengerId: is differetn id for each passenger><br>\n",
    "survival didthe passenger survive 0 = No, 1 = Yes<br>\n",
    "pclass Ticket class\t1 = 1st, 2 = 2nd, 3 = 3rd<br>\n",
    "sex\tSex\tmale or female <br>\n",
    "Age\thow old the passenger is in years\t <br>\n",
    "sibsp # of siblings / spouses aboard the Titanic\t <br>\n",
    "parch # of parents / children aboard the Titanic\t <br>\n",
    "ticket Ticket number\t <br>\n",
    "fare How much the passenger paid for thier ticket\t <br>\n",
    "cabin Cabin number\t <br>\n",
    "embarked Port of Embarkation C = Cherbourg, Q = Queenstown, S = Southampto <br>"
   ]
  },
  {
   "cell_type": "code",
   "execution_count": 61,
   "metadata": {},
   "outputs": [
    {
     "name": "stdout",
     "output_type": "stream",
     "text": [
      "<class 'pandas.core.frame.DataFrame'>\n",
      "RangeIndex: 891 entries, 0 to 890\n",
      "Data columns (total 12 columns):\n",
      " #   Column       Non-Null Count  Dtype  \n",
      "---  ------       --------------  -----  \n",
      " 0   PassengerId  891 non-null    int64  \n",
      " 1   Survived     891 non-null    int64  \n",
      " 2   Pclass       891 non-null    int64  \n",
      " 3   Name         891 non-null    object \n",
      " 4   Sex          891 non-null    object \n",
      " 5   Age          714 non-null    float64\n",
      " 6   SibSp        891 non-null    int64  \n",
      " 7   Parch        891 non-null    int64  \n",
      " 8   Ticket       891 non-null    object \n",
      " 9   Fare         891 non-null    float64\n",
      " 10  Cabin        204 non-null    object \n",
      " 11  Embarked     889 non-null    object \n",
      "dtypes: float64(2), int64(5), object(5)\n",
      "memory usage: 83.7+ KB\n"
     ]
    }
   ],
   "source": [
    "titanic.info()"
   ]
  },
  {
   "cell_type": "code",
   "execution_count": 62,
   "metadata": {},
   "outputs": [],
   "source": [
    "#dropping Cabin Column because too much data missing\n",
    "titanic = titanic.drop(columns=['Cabin'])"
   ]
  },
  {
   "cell_type": "code",
   "execution_count": 63,
   "metadata": {},
   "outputs": [
    {
     "name": "stdout",
     "output_type": "stream",
     "text": [
      "<class 'pandas.core.frame.DataFrame'>\n",
      "RangeIndex: 891 entries, 0 to 890\n",
      "Data columns (total 11 columns):\n",
      " #   Column       Non-Null Count  Dtype  \n",
      "---  ------       --------------  -----  \n",
      " 0   PassengerId  891 non-null    int64  \n",
      " 1   Survived     891 non-null    int64  \n",
      " 2   Pclass       891 non-null    int64  \n",
      " 3   Name         891 non-null    object \n",
      " 4   Sex          891 non-null    object \n",
      " 5   Age          714 non-null    float64\n",
      " 6   SibSp        891 non-null    int64  \n",
      " 7   Parch        891 non-null    int64  \n",
      " 8   Ticket       891 non-null    object \n",
      " 9   Fare         891 non-null    float64\n",
      " 10  Embarked     889 non-null    object \n",
      "dtypes: float64(2), int64(5), object(4)\n",
      "memory usage: 76.7+ KB\n"
     ]
    }
   ],
   "source": [
    "titanic.info()"
   ]
  },
  {
   "cell_type": "code",
   "execution_count": 64,
   "metadata": {},
   "outputs": [],
   "source": [
    "engine = create_engine('sqlite:///:memory:', echo=True)\n",
    "conn = engine.connect()"
   ]
  },
  {
   "cell_type": "code",
   "execution_count": 65,
   "metadata": {},
   "outputs": [
    {
     "name": "stdout",
     "output_type": "stream",
     "text": [
      "2023-08-15 15:59:32,270 INFO sqlalchemy.engine.Engine BEGIN (implicit)\n",
      "2023-08-15 15:59:32,271 INFO sqlalchemy.engine.Engine PRAGMA main.table_info(\"td\")\n",
      "2023-08-15 15:59:32,272 INFO sqlalchemy.engine.Engine [raw sql] ()\n",
      "2023-08-15 15:59:32,272 INFO sqlalchemy.engine.Engine PRAGMA temp.table_info(\"td\")\n",
      "2023-08-15 15:59:32,272 INFO sqlalchemy.engine.Engine [raw sql] ()\n",
      "2023-08-15 15:59:32,273 INFO sqlalchemy.engine.Engine \n",
      "CREATE TABLE td (\n",
      "\t\"index\" BIGINT, \n",
      "\t\"PassengerId\" BIGINT, \n",
      "\t\"Survived\" BIGINT, \n",
      "\t\"Pclass\" BIGINT, \n",
      "\t\"Name\" TEXT, \n",
      "\t\"Sex\" TEXT, \n",
      "\t\"Age\" FLOAT, \n",
      "\t\"SibSp\" BIGINT, \n",
      "\t\"Parch\" BIGINT, \n",
      "\t\"Ticket\" TEXT, \n",
      "\t\"Fare\" FLOAT, \n",
      "\t\"Embarked\" TEXT\n",
      ")\n",
      "\n",
      "\n",
      "2023-08-15 15:59:32,273 INFO sqlalchemy.engine.Engine [no key 0.00021s] ()\n",
      "2023-08-15 15:59:32,274 INFO sqlalchemy.engine.Engine CREATE INDEX ix_td_index ON td (\"index\")\n",
      "2023-08-15 15:59:32,274 INFO sqlalchemy.engine.Engine [no key 0.00018s] ()\n",
      "2023-08-15 15:59:32,278 INFO sqlalchemy.engine.Engine INSERT INTO td (\"index\", \"PassengerId\", \"Survived\", \"Pclass\", \"Name\", \"Sex\", \"Age\", \"SibSp\", \"Parch\", \"Ticket\", \"Fare\", \"Embarked\") VALUES (?, ?, ?, ?, ?, ?, ?, ?, ?, ?, ?, ?)\n",
      "2023-08-15 15:59:32,278 INFO sqlalchemy.engine.Engine [generated in 0.00238s] [(0, 1, 0, 3, 'Braund, Mr. Owen Harris', 'male', 22.0, 1, 0, 'A/5 21171', 7.25, 'S'), (1, 2, 1, 1, 'Cumings, Mrs. John Bradley (Florence Briggs Thayer)', 'female', 38.0, 1, 0, 'PC 17599', 71.2833, 'C'), (2, 3, 1, 3, 'Heikkinen, Miss. Laina', 'female', 26.0, 0, 0, 'STON/O2. 3101282', 7.925, 'S'), (3, 4, 1, 1, 'Futrelle, Mrs. Jacques Heath (Lily May Peel)', 'female', 35.0, 1, 0, '113803', 53.1, 'S'), (4, 5, 0, 3, 'Allen, Mr. William Henry', 'male', 35.0, 0, 0, '373450', 8.05, 'S'), (5, 6, 0, 3, 'Moran, Mr. James', 'male', None, 0, 0, '330877', 8.4583, 'Q'), (6, 7, 0, 1, 'McCarthy, Mr. Timothy J', 'male', 54.0, 0, 0, '17463', 51.8625, 'S'), (7, 8, 0, 3, 'Palsson, Master. Gosta Leonard', 'male', 2.0, 3, 1, '349909', 21.075, 'S')  ... displaying 10 of 891 total bound parameter sets ...  (889, 890, 1, 1, 'Behr, Mr. Karl Howell', 'male', 26.0, 0, 0, '111369', 30.0, 'C'), (890, 891, 0, 3, 'Dooley, Mr. Patrick', 'male', 32.0, 0, 0, '370376', 7.75, 'Q')]\n",
      "2023-08-15 15:59:32,281 INFO sqlalchemy.engine.Engine COMMIT\n"
     ]
    },
    {
     "data": {
      "text/plain": [
       "891"
      ]
     },
     "execution_count": 65,
     "metadata": {},
     "output_type": "execute_result"
    }
   ],
   "source": [
    "sqlite_table = \"td\"\n",
    "titanic.to_sql(sqlite_table, conn)"
   ]
  },
  {
   "cell_type": "code",
   "execution_count": 66,
   "metadata": {},
   "outputs": [
    {
     "name": "stdout",
     "output_type": "stream",
     "text": [
      "2023-08-15 15:59:32,285 INFO sqlalchemy.engine.Engine BEGIN (implicit)\n",
      "2023-08-15 15:59:32,286 INFO sqlalchemy.engine.Engine SELECT * FROM td\n",
      "2023-08-15 15:59:32,286 INFO sqlalchemy.engine.Engine [raw sql] ()\n"
     ]
    },
    {
     "data": {
      "text/html": [
       "<div>\n",
       "<style scoped>\n",
       "    .dataframe tbody tr th:only-of-type {\n",
       "        vertical-align: middle;\n",
       "    }\n",
       "\n",
       "    .dataframe tbody tr th {\n",
       "        vertical-align: top;\n",
       "    }\n",
       "\n",
       "    .dataframe thead th {\n",
       "        text-align: right;\n",
       "    }\n",
       "</style>\n",
       "<table border=\"1\" class=\"dataframe\">\n",
       "  <thead>\n",
       "    <tr style=\"text-align: right;\">\n",
       "      <th></th>\n",
       "      <th>index</th>\n",
       "      <th>PassengerId</th>\n",
       "      <th>Survived</th>\n",
       "      <th>Pclass</th>\n",
       "      <th>Name</th>\n",
       "      <th>Sex</th>\n",
       "      <th>Age</th>\n",
       "      <th>SibSp</th>\n",
       "      <th>Parch</th>\n",
       "      <th>Ticket</th>\n",
       "      <th>Fare</th>\n",
       "      <th>Embarked</th>\n",
       "    </tr>\n",
       "  </thead>\n",
       "  <tbody>\n",
       "    <tr>\n",
       "      <th>0</th>\n",
       "      <td>0</td>\n",
       "      <td>1</td>\n",
       "      <td>0</td>\n",
       "      <td>3</td>\n",
       "      <td>Braund, Mr. Owen Harris</td>\n",
       "      <td>male</td>\n",
       "      <td>22.0</td>\n",
       "      <td>1</td>\n",
       "      <td>0</td>\n",
       "      <td>A/5 21171</td>\n",
       "      <td>7.2500</td>\n",
       "      <td>S</td>\n",
       "    </tr>\n",
       "    <tr>\n",
       "      <th>1</th>\n",
       "      <td>1</td>\n",
       "      <td>2</td>\n",
       "      <td>1</td>\n",
       "      <td>1</td>\n",
       "      <td>Cumings, Mrs. John Bradley (Florence Briggs Th...</td>\n",
       "      <td>female</td>\n",
       "      <td>38.0</td>\n",
       "      <td>1</td>\n",
       "      <td>0</td>\n",
       "      <td>PC 17599</td>\n",
       "      <td>71.2833</td>\n",
       "      <td>C</td>\n",
       "    </tr>\n",
       "    <tr>\n",
       "      <th>2</th>\n",
       "      <td>2</td>\n",
       "      <td>3</td>\n",
       "      <td>1</td>\n",
       "      <td>3</td>\n",
       "      <td>Heikkinen, Miss. Laina</td>\n",
       "      <td>female</td>\n",
       "      <td>26.0</td>\n",
       "      <td>0</td>\n",
       "      <td>0</td>\n",
       "      <td>STON/O2. 3101282</td>\n",
       "      <td>7.9250</td>\n",
       "      <td>S</td>\n",
       "    </tr>\n",
       "    <tr>\n",
       "      <th>3</th>\n",
       "      <td>3</td>\n",
       "      <td>4</td>\n",
       "      <td>1</td>\n",
       "      <td>1</td>\n",
       "      <td>Futrelle, Mrs. Jacques Heath (Lily May Peel)</td>\n",
       "      <td>female</td>\n",
       "      <td>35.0</td>\n",
       "      <td>1</td>\n",
       "      <td>0</td>\n",
       "      <td>113803</td>\n",
       "      <td>53.1000</td>\n",
       "      <td>S</td>\n",
       "    </tr>\n",
       "    <tr>\n",
       "      <th>4</th>\n",
       "      <td>4</td>\n",
       "      <td>5</td>\n",
       "      <td>0</td>\n",
       "      <td>3</td>\n",
       "      <td>Allen, Mr. William Henry</td>\n",
       "      <td>male</td>\n",
       "      <td>35.0</td>\n",
       "      <td>0</td>\n",
       "      <td>0</td>\n",
       "      <td>373450</td>\n",
       "      <td>8.0500</td>\n",
       "      <td>S</td>\n",
       "    </tr>\n",
       "  </tbody>\n",
       "</table>\n",
       "</div>"
      ],
      "text/plain": [
       "   index  PassengerId  Survived  Pclass  \\\n",
       "0      0            1         0       3   \n",
       "1      1            2         1       1   \n",
       "2      2            3         1       3   \n",
       "3      3            4         1       1   \n",
       "4      4            5         0       3   \n",
       "\n",
       "                                                Name     Sex   Age  SibSp  \\\n",
       "0                            Braund, Mr. Owen Harris    male  22.0      1   \n",
       "1  Cumings, Mrs. John Bradley (Florence Briggs Th...  female  38.0      1   \n",
       "2                             Heikkinen, Miss. Laina  female  26.0      0   \n",
       "3       Futrelle, Mrs. Jacques Heath (Lily May Peel)  female  35.0      1   \n",
       "4                           Allen, Mr. William Henry    male  35.0      0   \n",
       "\n",
       "   Parch            Ticket     Fare Embarked  \n",
       "0      0         A/5 21171   7.2500        S  \n",
       "1      0          PC 17599  71.2833        C  \n",
       "2      0  STON/O2. 3101282   7.9250        S  \n",
       "3      0            113803  53.1000        S  \n",
       "4      0            373450   8.0500        S  "
      ]
     },
     "execution_count": 66,
     "metadata": {},
     "output_type": "execute_result"
    }
   ],
   "source": [
    "sql = '''SELECT * FROM td'''\n",
    "df = pd.read_sql_query(sql, conn)\n",
    "df.head()"
   ]
  },
  {
   "cell_type": "markdown",
   "metadata": {},
   "source": [
    "# lets see what percentage of people survived the crash."
   ]
  },
  {
   "cell_type": "code",
   "execution_count": 67,
   "metadata": {},
   "outputs": [
    {
     "name": "stdout",
     "output_type": "stream",
     "text": [
      "2023-08-15 15:59:32,295 INFO sqlalchemy.engine.Engine SELECT ROUND(SUM(Survived) * 100.0 / COUNT(Survived),1) as 'Percentage Survived' FROM td\n",
      "2023-08-15 15:59:32,296 INFO sqlalchemy.engine.Engine [raw sql] ()\n"
     ]
    },
    {
     "data": {
      "text/html": [
       "<div>\n",
       "<style scoped>\n",
       "    .dataframe tbody tr th:only-of-type {\n",
       "        vertical-align: middle;\n",
       "    }\n",
       "\n",
       "    .dataframe tbody tr th {\n",
       "        vertical-align: top;\n",
       "    }\n",
       "\n",
       "    .dataframe thead th {\n",
       "        text-align: right;\n",
       "    }\n",
       "</style>\n",
       "<table border=\"1\" class=\"dataframe\">\n",
       "  <thead>\n",
       "    <tr style=\"text-align: right;\">\n",
       "      <th></th>\n",
       "      <th>Percentage Survived</th>\n",
       "    </tr>\n",
       "  </thead>\n",
       "  <tbody>\n",
       "    <tr>\n",
       "      <th>0</th>\n",
       "      <td>38.4</td>\n",
       "    </tr>\n",
       "  </tbody>\n",
       "</table>\n",
       "</div>"
      ],
      "text/plain": [
       "   Percentage Survived\n",
       "0                 38.4"
      ]
     },
     "execution_count": 67,
     "metadata": {},
     "output_type": "execute_result"
    }
   ],
   "source": [
    "sql = '''SELECT ROUND(SUM(Survived) * 100.0 / COUNT(Survived),1) as 'Percentage Survived' FROM td'''\n",
    "df = pd.read_sql_query(sql, conn)\n",
    "df"
   ]
  },
  {
   "cell_type": "code",
   "execution_count": 68,
   "metadata": {},
   "outputs": [
    {
     "name": "stdout",
     "output_type": "stream",
     "text": [
      "2023-08-15 15:59:32,300 INFO sqlalchemy.engine.Engine SELECT (SELECT COUNT(*) FROM td WHERE Age < 18) as Children,\n",
      "(SELECT ROUND(SUM(Survived) * 100.0 / COUNT(*),1) FROM td WHERE Age < 18) as 'Children Perc Survived',\n",
      "(SELECT COUNT(*) FROM td WHERE Age > 17 and Age < 65) as Adults,\n",
      "(SELECT ROUND(SUM(Survived) * 100.0 / COUNT(*),1) FROM td WHERE Age > 17 and Age < 65) as 'Adults Perc Survived',\n",
      "(SELECT COUNT(*) FROM td WHERE Age > 64) as Elderly,\n",
      "(SELECT ROUND(SUM(Survived) * 100.0 / COUNT(*),1) FROM td WHERE Age > 64) as 'Edlerly Perc Survived'\n",
      "FROM TD \n",
      "LIMIT 1\n",
      "2023-08-15 15:59:32,301 INFO sqlalchemy.engine.Engine [raw sql] ()\n"
     ]
    },
    {
     "data": {
      "text/html": [
       "<div>\n",
       "<style scoped>\n",
       "    .dataframe tbody tr th:only-of-type {\n",
       "        vertical-align: middle;\n",
       "    }\n",
       "\n",
       "    .dataframe tbody tr th {\n",
       "        vertical-align: top;\n",
       "    }\n",
       "\n",
       "    .dataframe thead th {\n",
       "        text-align: right;\n",
       "    }\n",
       "</style>\n",
       "<table border=\"1\" class=\"dataframe\">\n",
       "  <thead>\n",
       "    <tr style=\"text-align: right;\">\n",
       "      <th></th>\n",
       "      <th>Children</th>\n",
       "      <th>Children Perc Survived</th>\n",
       "      <th>Adults</th>\n",
       "      <th>Adults Perc Survived</th>\n",
       "      <th>Elderly</th>\n",
       "      <th>Edlerly Perc Survived</th>\n",
       "    </tr>\n",
       "  </thead>\n",
       "  <tbody>\n",
       "    <tr>\n",
       "      <th>0</th>\n",
       "      <td>113</td>\n",
       "      <td>54.0</td>\n",
       "      <td>590</td>\n",
       "      <td>38.6</td>\n",
       "      <td>11</td>\n",
       "      <td>9.1</td>\n",
       "    </tr>\n",
       "  </tbody>\n",
       "</table>\n",
       "</div>"
      ],
      "text/plain": [
       "   Children  Children Perc Survived  Adults  Adults Perc Survived  Elderly  \\\n",
       "0       113                    54.0     590                  38.6       11   \n",
       "\n",
       "   Edlerly Perc Survived  \n",
       "0                    9.1  "
      ]
     },
     "execution_count": 68,
     "metadata": {},
     "output_type": "execute_result"
    }
   ],
   "source": [
    "#What percentage survived by age groups\n",
    "sql = '''SELECT (SELECT COUNT(*) FROM td WHERE Age < 18) as Children,\n",
    "(SELECT ROUND(SUM(Survived) * 100.0 / COUNT(*),1) FROM td WHERE Age < 18) as 'Children Perc Survived',\n",
    "(SELECT COUNT(*) FROM td WHERE Age > 17 and Age < 65) as Adults,\n",
    "(SELECT ROUND(SUM(Survived) * 100.0 / COUNT(*),1) FROM td WHERE Age > 17 and Age < 65) as 'Adults Perc Survived',\n",
    "(SELECT COUNT(*) FROM td WHERE Age > 64) as Elderly,\n",
    "(SELECT ROUND(SUM(Survived) * 100.0 / COUNT(*),1) FROM td WHERE Age > 64) as 'Edlerly Perc Survived'\n",
    "FROM TD \n",
    "LIMIT 1''' \n",
    "df = pd.read_sql_query(sql, conn)\n",
    "df"
   ]
  },
  {
   "cell_type": "code",
   "execution_count": 69,
   "metadata": {},
   "outputs": [
    {
     "name": "stdout",
     "output_type": "stream",
     "text": [
      "2023-08-15 15:59:32,306 INFO sqlalchemy.engine.Engine SELECT Avg(Fare) FROM td\n",
      "2023-08-15 15:59:32,306 INFO sqlalchemy.engine.Engine [raw sql] ()\n"
     ]
    },
    {
     "data": {
      "text/html": [
       "<div>\n",
       "<style scoped>\n",
       "    .dataframe tbody tr th:only-of-type {\n",
       "        vertical-align: middle;\n",
       "    }\n",
       "\n",
       "    .dataframe tbody tr th {\n",
       "        vertical-align: top;\n",
       "    }\n",
       "\n",
       "    .dataframe thead th {\n",
       "        text-align: right;\n",
       "    }\n",
       "</style>\n",
       "<table border=\"1\" class=\"dataframe\">\n",
       "  <thead>\n",
       "    <tr style=\"text-align: right;\">\n",
       "      <th></th>\n",
       "      <th>Avg(Fare)</th>\n",
       "    </tr>\n",
       "  </thead>\n",
       "  <tbody>\n",
       "    <tr>\n",
       "      <th>0</th>\n",
       "      <td>32.204208</td>\n",
       "    </tr>\n",
       "  </tbody>\n",
       "</table>\n",
       "</div>"
      ],
      "text/plain": [
       "   Avg(Fare)\n",
       "0  32.204208"
      ]
     },
     "execution_count": 69,
     "metadata": {},
     "output_type": "execute_result"
    }
   ],
   "source": [
    "sql = '''SELECT Avg(Fare) FROM td'''\n",
    "df = pd.read_sql_query(sql, conn)\n",
    "df.head()"
   ]
  },
  {
   "cell_type": "code",
   "execution_count": 70,
   "metadata": {},
   "outputs": [
    {
     "name": "stdout",
     "output_type": "stream",
     "text": [
      "2023-08-15 15:59:32,311 INFO sqlalchemy.engine.Engine SELECT (SELECT COUNT(*) FROM td WHERE Fare > 32) as 'Rich People',\n",
      "(SELECT ROUND(Sum(Survived)*100.0/Count(*),1) From td WHERE Fare > 32) as 'Rich Perc Survived',\n",
      "(SELECT COUNT(*) FROM td WHERE Fare < 32) as 'Poor People',\n",
      "(SELECT ROUND(Sum(Survived)*100.0/Count(*),1) From td WHERE Fare < 32) as 'Poor Perc Survived' \n",
      "FROM td LIMIT 1\n",
      "2023-08-15 15:59:32,312 INFO sqlalchemy.engine.Engine [raw sql] ()\n"
     ]
    },
    {
     "data": {
      "text/html": [
       "<div>\n",
       "<style scoped>\n",
       "    .dataframe tbody tr th:only-of-type {\n",
       "        vertical-align: middle;\n",
       "    }\n",
       "\n",
       "    .dataframe tbody tr th {\n",
       "        vertical-align: top;\n",
       "    }\n",
       "\n",
       "    .dataframe thead th {\n",
       "        text-align: right;\n",
       "    }\n",
       "</style>\n",
       "<table border=\"1\" class=\"dataframe\">\n",
       "  <thead>\n",
       "    <tr style=\"text-align: right;\">\n",
       "      <th></th>\n",
       "      <th>Rich People</th>\n",
       "      <th>Rich Perc Survived</th>\n",
       "      <th>Poor People</th>\n",
       "      <th>Poor Perc Survived</th>\n",
       "    </tr>\n",
       "  </thead>\n",
       "  <tbody>\n",
       "    <tr>\n",
       "      <th>0</th>\n",
       "      <td>211</td>\n",
       "      <td>59.7</td>\n",
       "      <td>680</td>\n",
       "      <td>31.8</td>\n",
       "    </tr>\n",
       "  </tbody>\n",
       "</table>\n",
       "</div>"
      ],
      "text/plain": [
       "   Rich People  Rich Perc Survived  Poor People  Poor Perc Survived\n",
       "0          211                59.7          680                31.8"
      ]
     },
     "execution_count": 70,
     "metadata": {},
     "output_type": "execute_result"
    }
   ],
   "source": [
    "# Going to find what percentage of people survived by different fare amounts\n",
    "sql = '''SELECT (SELECT COUNT(*) FROM td WHERE Fare > 32) as 'Rich People',\n",
    "(SELECT ROUND(Sum(Survived)*100.0/Count(*),1) From td WHERE Fare > 32) as 'Rich Perc Survived',\n",
    "(SELECT COUNT(*) FROM td WHERE Fare < 32) as 'Poor People',\n",
    "(SELECT ROUND(Sum(Survived)*100.0/Count(*),1) From td WHERE Fare < 32) as 'Poor Perc Survived' \n",
    "FROM td LIMIT 1'''\n",
    "df = pd.read_sql_query(sql, conn)\n",
    "df.head()"
   ]
  },
  {
   "cell_type": "code",
   "execution_count": 71,
   "metadata": {},
   "outputs": [
    {
     "name": "stdout",
     "output_type": "stream",
     "text": [
      "2023-08-15 15:59:32,317 INFO sqlalchemy.engine.Engine SELECT (SELECT COUNT(*) FROM td WHERE Sex ='male') as 'Males',\n",
      "(SELECT ROUND(Sum(Survived)*100.0/Count(*),1) From td WHERE Sex = 'male') as 'Males Perc Survived',\n",
      "(SELECT COUNT(*) FROM td WHERE Sex = 'female') as 'Females',\n",
      "(SELECT ROUND(Sum(Survived)*100.0/Count(*),1) From td WHERE Sex= 'female') as 'Females Perc Survived' \n",
      "FROM td LIMIT 1\n",
      "2023-08-15 15:59:32,317 INFO sqlalchemy.engine.Engine [raw sql] ()\n"
     ]
    },
    {
     "data": {
      "text/html": [
       "<div>\n",
       "<style scoped>\n",
       "    .dataframe tbody tr th:only-of-type {\n",
       "        vertical-align: middle;\n",
       "    }\n",
       "\n",
       "    .dataframe tbody tr th {\n",
       "        vertical-align: top;\n",
       "    }\n",
       "\n",
       "    .dataframe thead th {\n",
       "        text-align: right;\n",
       "    }\n",
       "</style>\n",
       "<table border=\"1\" class=\"dataframe\">\n",
       "  <thead>\n",
       "    <tr style=\"text-align: right;\">\n",
       "      <th></th>\n",
       "      <th>Males</th>\n",
       "      <th>Males Perc Survived</th>\n",
       "      <th>Females</th>\n",
       "      <th>Females Perc Survived</th>\n",
       "    </tr>\n",
       "  </thead>\n",
       "  <tbody>\n",
       "    <tr>\n",
       "      <th>0</th>\n",
       "      <td>577</td>\n",
       "      <td>18.9</td>\n",
       "      <td>314</td>\n",
       "      <td>74.2</td>\n",
       "    </tr>\n",
       "  </tbody>\n",
       "</table>\n",
       "</div>"
      ],
      "text/plain": [
       "   Males  Males Perc Survived  Females  Females Perc Survived\n",
       "0    577                 18.9      314                   74.2"
      ]
     },
     "execution_count": 71,
     "metadata": {},
     "output_type": "execute_result"
    }
   ],
   "source": [
    "#what percentage survived male vs female\n",
    "sql = '''SELECT (SELECT COUNT(*) FROM td WHERE Sex ='male') as 'Males',\n",
    "(SELECT ROUND(Sum(Survived)*100.0/Count(*),1) From td WHERE Sex = 'male') as 'Males Perc Survived',\n",
    "(SELECT COUNT(*) FROM td WHERE Sex = 'female') as 'Females',\n",
    "(SELECT ROUND(Sum(Survived)*100.0/Count(*),1) From td WHERE Sex= 'female') as 'Females Perc Survived' \n",
    "FROM td LIMIT 1'''\n",
    "df = pd.read_sql_query(sql, conn)\n",
    "df.head()"
   ]
  },
  {
   "cell_type": "code",
   "execution_count": 72,
   "metadata": {},
   "outputs": [
    {
     "name": "stdout",
     "output_type": "stream",
     "text": [
      "2023-08-15 15:59:32,323 INFO sqlalchemy.engine.Engine SELECT (SELECT COUNT(*) FROM td WHERE Pclass =1) as 'P1',\n",
      "(SELECT ROUND(Sum(Survived)*100.0/Count(*),1) From td WHERE Pclass =1) as 'P1 Perc Survived',\n",
      "(SELECT COUNT(*) FROM td WHERE Pclass =2) as 'P2',\n",
      "(SELECT ROUND(Sum(Survived)*100.0/Count(*),1) From td WHERE Pclass =2) as 'P2 Perc Survived',\n",
      "(SELECT COUNT(*) FROM td WHERE Pclass =3) as 'P3',\n",
      "(SELECT ROUND(Sum(Survived)*100.0/Count(*),1) From td WHERE Pclass =3) as 'P3 Perc Survived' \n",
      "FROM td LIMIT 1\n",
      "2023-08-15 15:59:32,323 INFO sqlalchemy.engine.Engine [raw sql] ()\n"
     ]
    },
    {
     "data": {
      "text/html": [
       "<div>\n",
       "<style scoped>\n",
       "    .dataframe tbody tr th:only-of-type {\n",
       "        vertical-align: middle;\n",
       "    }\n",
       "\n",
       "    .dataframe tbody tr th {\n",
       "        vertical-align: top;\n",
       "    }\n",
       "\n",
       "    .dataframe thead th {\n",
       "        text-align: right;\n",
       "    }\n",
       "</style>\n",
       "<table border=\"1\" class=\"dataframe\">\n",
       "  <thead>\n",
       "    <tr style=\"text-align: right;\">\n",
       "      <th></th>\n",
       "      <th>P1</th>\n",
       "      <th>P1 Perc Survived</th>\n",
       "      <th>P2</th>\n",
       "      <th>P2 Perc Survived</th>\n",
       "      <th>P3</th>\n",
       "      <th>P3 Perc Survived</th>\n",
       "    </tr>\n",
       "  </thead>\n",
       "  <tbody>\n",
       "    <tr>\n",
       "      <th>0</th>\n",
       "      <td>216</td>\n",
       "      <td>63.0</td>\n",
       "      <td>184</td>\n",
       "      <td>47.3</td>\n",
       "      <td>491</td>\n",
       "      <td>24.2</td>\n",
       "    </tr>\n",
       "  </tbody>\n",
       "</table>\n",
       "</div>"
      ],
      "text/plain": [
       "    P1  P1 Perc Survived   P2  P2 Perc Survived   P3  P3 Perc Survived\n",
       "0  216              63.0  184              47.3  491              24.2"
      ]
     },
     "execution_count": 72,
     "metadata": {},
     "output_type": "execute_result"
    }
   ],
   "source": [
    "#what percentage survived In Different Pclasses\n",
    "sql = '''SELECT (SELECT COUNT(*) FROM td WHERE Pclass =1) as 'P1',\n",
    "(SELECT ROUND(Sum(Survived)*100.0/Count(*),1) From td WHERE Pclass =1) as 'P1 Perc Survived',\n",
    "(SELECT COUNT(*) FROM td WHERE Pclass =2) as 'P2',\n",
    "(SELECT ROUND(Sum(Survived)*100.0/Count(*),1) From td WHERE Pclass =2) as 'P2 Perc Survived',\n",
    "(SELECT COUNT(*) FROM td WHERE Pclass =3) as 'P3',\n",
    "(SELECT ROUND(Sum(Survived)*100.0/Count(*),1) From td WHERE Pclass =3) as 'P3 Perc Survived' \n",
    "FROM td LIMIT 1'''\n",
    "df = pd.read_sql_query(sql, conn)\n",
    "df.head()"
   ]
  },
  {
   "cell_type": "code",
   "execution_count": 73,
   "metadata": {},
   "outputs": [
    {
     "name": "stdout",
     "output_type": "stream",
     "text": [
      "2023-08-15 15:59:32,329 INFO sqlalchemy.engine.Engine ROLLBACK\n"
     ]
    }
   ],
   "source": [
    "conn.close()"
   ]
  }
 ],
 "metadata": {
  "kernelspec": {
   "display_name": ".venv",
   "language": "python",
   "name": "python3"
  },
  "language_info": {
   "codemirror_mode": {
    "name": "ipython",
    "version": 3
   },
   "file_extension": ".py",
   "mimetype": "text/x-python",
   "name": "python",
   "nbconvert_exporter": "python",
   "pygments_lexer": "ipython3",
   "version": "3.11.3"
  },
  "orig_nbformat": 4
 },
 "nbformat": 4,
 "nbformat_minor": 2
}
